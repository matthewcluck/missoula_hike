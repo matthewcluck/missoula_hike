{
 "cells": [
  {
   "cell_type": "code",
   "execution_count": 28,
   "metadata": {},
   "outputs": [],
   "source": [
    "# Import libraries\n",
    "import geopandas as gpd\n",
    "import psycopg2\n",
    "import os\n",
    "from dotenv import load_dotenv"
   ]
  },
  {
   "cell_type": "code",
   "execution_count": 29,
   "metadata": {},
   "outputs": [
    {
     "name": "stdout",
     "output_type": "stream",
     "text": [
      "DB_PASSWORD: your_password\n"
     ]
    }
   ],
   "source": [
    "load_dotenv()\n",
    "\n",
    "# Debugging: Print password to check if it's loaded correctly (Be careful with sensitive data!)\n",
    "print(\"DB_PASSWORD:\", os.getenv(\"DB_PASSWORD\"))"
   ]
  },
  {
   "cell_type": "code",
   "execution_count": 26,
   "metadata": {},
   "outputs": [
    {
     "ename": "OperationalError",
     "evalue": "connection to server at \"localhost\" (::1), port 5432 failed: FATAL:  password authentication failed for user \"postgres\"\n",
     "output_type": "error",
     "traceback": [
      "\u001b[1;31m---------------------------------------------------------------------------\u001b[0m",
      "\u001b[1;31mOperationalError\u001b[0m                          Traceback (most recent call last)",
      "Cell \u001b[1;32mIn[26], line 4\u001b[0m\n\u001b[0;32m      1\u001b[0m \u001b[38;5;66;03m# Connect to postgis database\u001b[39;00m\n\u001b[0;32m      2\u001b[0m load_dotenv()\n\u001b[1;32m----> 4\u001b[0m conn \u001b[38;5;241m=\u001b[39m \u001b[43mpsycopg2\u001b[49m\u001b[38;5;241;43m.\u001b[39;49m\u001b[43mconnect\u001b[49m\u001b[43m(\u001b[49m\u001b[43mdbname\u001b[49m\u001b[38;5;241;43m=\u001b[39;49m\u001b[38;5;124;43m\"\u001b[39;49m\u001b[38;5;124;43mspatial_db\u001b[39;49m\u001b[38;5;124;43m\"\u001b[39;49m\u001b[43m,\u001b[49m\u001b[43m \u001b[49m\u001b[43muser\u001b[49m\u001b[38;5;241;43m=\u001b[39;49m\u001b[38;5;124;43m\"\u001b[39;49m\u001b[38;5;124;43mpostgres\u001b[39;49m\u001b[38;5;124;43m\"\u001b[39;49m\u001b[43m,\u001b[49m\u001b[43m \u001b[49m\u001b[43mpassword\u001b[49m\u001b[38;5;241;43m=\u001b[39;49m\u001b[43mos\u001b[49m\u001b[38;5;241;43m.\u001b[39;49m\u001b[43mgetenv\u001b[49m\u001b[43m(\u001b[49m\u001b[38;5;124;43m'\u001b[39;49m\u001b[38;5;124;43mDB_PASSWORD\u001b[39;49m\u001b[38;5;124;43m'\u001b[39;49m\u001b[43m)\u001b[49m\u001b[43m,\u001b[49m\u001b[43m \u001b[49m\u001b[43mhost\u001b[49m\u001b[38;5;241;43m=\u001b[39;49m\u001b[38;5;124;43m\"\u001b[39;49m\u001b[38;5;124;43mlocalhost\u001b[39;49m\u001b[38;5;124;43m\"\u001b[39;49m\u001b[43m,\u001b[49m\u001b[43m \u001b[49m\u001b[43mport\u001b[49m\u001b[38;5;241;43m=\u001b[39;49m\u001b[38;5;124;43m\"\u001b[39;49m\u001b[38;5;124;43m5432\u001b[39;49m\u001b[38;5;124;43m\"\u001b[39;49m\u001b[43m)\u001b[49m\n\u001b[0;32m      6\u001b[0m states_query \u001b[38;5;241m=\u001b[39m \u001b[38;5;124m'\u001b[39m\u001b[38;5;124mSELECT * FROM \u001b[39m\u001b[38;5;124m\"\u001b[39m\u001b[38;5;124mStates\u001b[39m\u001b[38;5;124m\"\u001b[39m\u001b[38;5;124m;\u001b[39m\u001b[38;5;124m'\u001b[39m\n\u001b[0;32m      7\u001b[0m parcels_query \u001b[38;5;241m=\u001b[39m \u001b[38;5;124m'\u001b[39m\u001b[38;5;124mSELECT * FROM \u001b[39m\u001b[38;5;124m\"\u001b[39m\u001b[38;5;124mMissoula_Parcels\u001b[39m\u001b[38;5;124m\"\u001b[39m\u001b[38;5;124m;\u001b[39m\u001b[38;5;124m'\u001b[39m\n",
      "File \u001b[1;32m~\\AppData\\Local\\Packages\\PythonSoftwareFoundation.Python.3.9_qbz5n2kfra8p0\\LocalCache\\local-packages\\Python39\\site-packages\\psycopg2\\__init__.py:122\u001b[0m, in \u001b[0;36mconnect\u001b[1;34m(dsn, connection_factory, cursor_factory, **kwargs)\u001b[0m\n\u001b[0;32m    119\u001b[0m     kwasync[\u001b[38;5;124m'\u001b[39m\u001b[38;5;124masync_\u001b[39m\u001b[38;5;124m'\u001b[39m] \u001b[38;5;241m=\u001b[39m kwargs\u001b[38;5;241m.\u001b[39mpop(\u001b[38;5;124m'\u001b[39m\u001b[38;5;124masync_\u001b[39m\u001b[38;5;124m'\u001b[39m)\n\u001b[0;32m    121\u001b[0m dsn \u001b[38;5;241m=\u001b[39m _ext\u001b[38;5;241m.\u001b[39mmake_dsn(dsn, \u001b[38;5;241m*\u001b[39m\u001b[38;5;241m*\u001b[39mkwargs)\n\u001b[1;32m--> 122\u001b[0m conn \u001b[38;5;241m=\u001b[39m _connect(dsn, connection_factory\u001b[38;5;241m=\u001b[39mconnection_factory, \u001b[38;5;241m*\u001b[39m\u001b[38;5;241m*\u001b[39mkwasync)\n\u001b[0;32m    123\u001b[0m \u001b[38;5;28;01mif\u001b[39;00m cursor_factory \u001b[38;5;129;01mis\u001b[39;00m \u001b[38;5;129;01mnot\u001b[39;00m \u001b[38;5;28;01mNone\u001b[39;00m:\n\u001b[0;32m    124\u001b[0m     conn\u001b[38;5;241m.\u001b[39mcursor_factory \u001b[38;5;241m=\u001b[39m cursor_factory\n",
      "\u001b[1;31mOperationalError\u001b[0m: connection to server at \"localhost\" (::1), port 5432 failed: FATAL:  password authentication failed for user \"postgres\"\n"
     ]
    }
   ],
   "source": [
    "# Connect to postgis database\n",
    "load_dotenv()\n",
    "\n",
    "conn = psycopg2.connect(dbname=\"spatial_db\", user=\"postgres\", password=os.getenv('DB_PASSWORD'), host=\"localhost\", port=\"5432\")\n",
    "\n",
    "states_query = 'SELECT * FROM \"States\";'\n",
    "parcels_query = 'SELECT * FROM \"Missoula_Parcels\";'\n",
    "nwa_query = 'SELECT * FROM \"National_Wilderness_Areas\";'\n",
    "trails_query = 'SELECT * FROM \"Trails\";'\n",
    "\n",
    "states_gdf = gpd.read_postgis(states_query, conn, geom_col=\"geom\")\n",
    "parcels_gdf = gpd.read_postgis(parcels_query, conn, geom_col=\"geom\")\n",
    "nwa_gdf = gpd.read_postgis(nwa_query, conn, geom_col=\"geom\")\n",
    "trails_gdf = gpd.read_postgis(trails_query, conn, geom_col=\"geom\")\n",
    "\n",
    "# Close connection\n",
    "conn.close()"
   ]
  },
  {
   "cell_type": "code",
   "execution_count": 21,
   "metadata": {},
   "outputs": [
    {
     "data": {
      "text/html": [
       "<div>\n",
       "<style scoped>\n",
       "    .dataframe tbody tr th:only-of-type {\n",
       "        vertical-align: middle;\n",
       "    }\n",
       "\n",
       "    .dataframe tbody tr th {\n",
       "        vertical-align: top;\n",
       "    }\n",
       "\n",
       "    .dataframe thead th {\n",
       "        text-align: right;\n",
       "    }\n",
       "</style>\n",
       "<table border=\"1\" class=\"dataframe\">\n",
       "  <thead>\n",
       "    <tr style=\"text-align: right;\">\n",
       "      <th></th>\n",
       "      <th>id</th>\n",
       "      <th>geom</th>\n",
       "      <th>uniqueid</th>\n",
       "      <th>providerid</th>\n",
       "      <th>name</th>\n",
       "      <th>trailid</th>\n",
       "      <th>trl_no</th>\n",
       "      <th>surface</th>\n",
       "    </tr>\n",
       "  </thead>\n",
       "  <tbody>\n",
       "    <tr>\n",
       "      <th>0</th>\n",
       "      <td>1</td>\n",
       "      <td>MULTILINESTRING ((-12363792.422 5733637.501, -...</td>\n",
       "      <td>99031000.TRL.1251</td>\n",
       "      <td>99031000.0</td>\n",
       "      <td>None</td>\n",
       "      <td>1387</td>\n",
       "      <td>None</td>\n",
       "      <td>None</td>\n",
       "    </tr>\n",
       "    <tr>\n",
       "      <th>1</th>\n",
       "      <td>2</td>\n",
       "      <td>MULTILINESTRING ((-12384722.606 5663266.674, -...</td>\n",
       "      <td>99031000.TRL.1254</td>\n",
       "      <td>99031000.0</td>\n",
       "      <td>None</td>\n",
       "      <td>1823</td>\n",
       "      <td>None</td>\n",
       "      <td>None</td>\n",
       "    </tr>\n",
       "    <tr>\n",
       "      <th>2</th>\n",
       "      <td>3</td>\n",
       "      <td>MULTILINESTRING ((-12392377.658 5661501.772, -...</td>\n",
       "      <td>99031000.TRL.1255</td>\n",
       "      <td>99031000.0</td>\n",
       "      <td>None</td>\n",
       "      <td>1826</td>\n",
       "      <td>None</td>\n",
       "      <td>None</td>\n",
       "    </tr>\n",
       "    <tr>\n",
       "      <th>3</th>\n",
       "      <td>4</td>\n",
       "      <td>MULTILINESTRING ((-12378469.48 5727787.214, -1...</td>\n",
       "      <td>99031000.TRL.1258</td>\n",
       "      <td>99031000.0</td>\n",
       "      <td>4 CORNERS - W GALLATIN</td>\n",
       "      <td>1662</td>\n",
       "      <td>None</td>\n",
       "      <td>None</td>\n",
       "    </tr>\n",
       "    <tr>\n",
       "      <th>4</th>\n",
       "      <td>5</td>\n",
       "      <td>MULTILINESTRING ((-12377558.742 5727781.337, -...</td>\n",
       "      <td>99031000.TRL.1259</td>\n",
       "      <td>99031000.0</td>\n",
       "      <td>4 CORNERS - W GALLATIN</td>\n",
       "      <td>1666</td>\n",
       "      <td>None</td>\n",
       "      <td>None</td>\n",
       "    </tr>\n",
       "  </tbody>\n",
       "</table>\n",
       "</div>"
      ],
      "text/plain": [
       "   id                                               geom           uniqueid  \\\n",
       "0   1  MULTILINESTRING ((-12363792.422 5733637.501, -...  99031000.TRL.1251   \n",
       "1   2  MULTILINESTRING ((-12384722.606 5663266.674, -...  99031000.TRL.1254   \n",
       "2   3  MULTILINESTRING ((-12392377.658 5661501.772, -...  99031000.TRL.1255   \n",
       "3   4  MULTILINESTRING ((-12378469.48 5727787.214, -1...  99031000.TRL.1258   \n",
       "4   5  MULTILINESTRING ((-12377558.742 5727781.337, -...  99031000.TRL.1259   \n",
       "\n",
       "   providerid                    name trailid trl_no surface  \n",
       "0  99031000.0                    None    1387   None    None  \n",
       "1  99031000.0                    None    1823   None    None  \n",
       "2  99031000.0                    None    1826   None    None  \n",
       "3  99031000.0  4 CORNERS - W GALLATIN    1662   None    None  \n",
       "4  99031000.0  4 CORNERS - W GALLATIN    1666   None    None  "
      ]
     },
     "execution_count": 21,
     "metadata": {},
     "output_type": "execute_result"
    }
   ],
   "source": [
    "trails_gdf.head()"
   ]
  }
 ],
 "metadata": {
  "kernelspec": {
   "display_name": "Python 3",
   "language": "python",
   "name": "python3"
  },
  "language_info": {
   "codemirror_mode": {
    "name": "ipython",
    "version": 3
   },
   "file_extension": ".py",
   "mimetype": "text/x-python",
   "name": "python",
   "nbconvert_exporter": "python",
   "pygments_lexer": "ipython3",
   "version": "3.9.13"
  }
 },
 "nbformat": 4,
 "nbformat_minor": 2
}
